{
  "nbformat": 4,
  "nbformat_minor": 0,
  "metadata": {
    "colab": {
      "provenance": [],
      "authorship_tag": "ABX9TyP/d9kX+cIzw14XZxDb4MxU",
      "include_colab_link": true
    },
    "kernelspec": {
      "name": "python3",
      "display_name": "Python 3"
    },
    "language_info": {
      "name": "python"
    }
  },
  "cells": [
    {
      "cell_type": "markdown",
      "metadata": {
        "id": "view-in-github",
        "colab_type": "text"
      },
      "source": [
        "<a href=\"https://colab.research.google.com/github/destrianra/struktur_data/blob/main/Praktikum5_Sort1_G_231_22_0007.ipynb\" target=\"_parent\"><img src=\"https://colab.research.google.com/assets/colab-badge.svg\" alt=\"Open In Colab\"/></a>"
      ]
    },
    {
      "cell_type": "code",
      "execution_count": null,
      "metadata": {
        "colab": {
          "base_uri": "https://localhost:8080/"
        },
        "id": "3r3W2_hbYooB",
        "outputId": "999dbf7b-ba91-48e0-8a55-cb4ed164628a"
      },
      "outputs": [
        {
          "output_type": "stream",
          "name": "stdout",
          "text": [
            "Sorted array using Bubble Sort:\n",
            "11 12 22 25 34 64 90 "
          ]
        }
      ],
      "source": [
        "#BUBLE SHORT\n",
        "def bubble_sort(arr):\n",
        "    # Panjang array\n",
        "    n = len(arr)\n",
        "\n",
        "    for i in range(n):\n",
        "        for j in range(0, n-i-1):\n",
        "            # Membandingkan dan menukar elemen jika diperlukan\n",
        "            if arr[j] > arr[j+1]:\n",
        "                arr[j], arr[j+1] = arr[j+1], arr[j]\n",
        "\n",
        "# Driver code untuk menguji Bubble Sort\n",
        "arr_bubble = [64, 34, 25, 12, 22, 11, 90]\n",
        "bubble_sort(arr_bubble)\n",
        "print(\"Sorted array using Bubble Sort:\")\n",
        "for i in range(len(arr_bubble)):\n",
        "    print(\"%d\" % arr_bubble[i], end=\" \")\n"
      ]
    },
    {
      "cell_type": "code",
      "source": [
        "#SELECTION SHORT\n",
        "def selection_sort(arr):\n",
        "    # Panjang array\n",
        "    n = len(arr)\n",
        "\n",
        "    for i in range(n):\n",
        "        min_index = i\n",
        "        for j in range(i+1, n):\n",
        "            # Mencari indeks elemen terkecil\n",
        "            if arr[j] < arr[min_index]:\n",
        "                min_index = j\n",
        "\n",
        "        # Menukar elemen terkecil dengan elemen di ujung bagian yang sudah diurutkan\n",
        "        arr[i], arr[min_index] = arr[min_index], arr[i]\n",
        "\n",
        "# Driver code untuk menguji Selection Sort\n",
        "arr_selection = [64, 25, 12, 22, 11]\n",
        "selection_sort(arr_selection)\n",
        "print(\"Sorted array using Selection Sort:\")\n",
        "for i in range(len(arr_selection)):\n",
        "    print(\"%d\" % arr_selection[i], end=\" \")\n"
      ],
      "metadata": {
        "colab": {
          "base_uri": "https://localhost:8080/"
        },
        "id": "v8RlaA6YYtv7",
        "outputId": "9409cbe4-38f4-4374-d449-6c73fb7c18be"
      },
      "execution_count": null,
      "outputs": [
        {
          "output_type": "stream",
          "name": "stdout",
          "text": [
            "Sorted array using Selection Sort:\n",
            "11 12 22 25 64 "
          ]
        }
      ]
    },
    {
      "cell_type": "code",
      "source": [
        "#INSERTION SHORT\n",
        "def insertion_sort(arr):\n",
        "    for i in range(1, len(arr)):\n",
        "        key = arr[i]\n",
        "        j = i - 1\n",
        "        while j >= 0 and key < arr[j]:\n",
        "            arr[j + 1] = arr[j]\n",
        "            j -= 1\n",
        "        arr[j + 1] = key\n",
        "\n",
        "# Driver code to test above\n",
        "arr_insertion = [12, 11, 13, 5, 6]\n",
        "insertion_sort(arr_insertion)\n",
        "print(\"Sorted array using Insertion Sort:\")\n",
        "for i in range(len(arr_insertion)):\n",
        "    print(\"%d\" % arr_insertion[i], end=\" \")\n"
      ],
      "metadata": {
        "id": "6QnqPuGxaB8x",
        "colab": {
          "base_uri": "https://localhost:8080/"
        },
        "outputId": "c9c49f24-227e-4c17-e1dc-98efea5ef8fb"
      },
      "execution_count": null,
      "outputs": [
        {
          "output_type": "stream",
          "name": "stdout",
          "text": [
            "Sorted array using Insertion Sort:\n",
            "5 6 11 12 13 "
          ]
        }
      ]
    }
  ]
}