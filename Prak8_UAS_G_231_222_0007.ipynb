{
  "nbformat": 4,
  "nbformat_minor": 0,
  "metadata": {
    "colab": {
      "provenance": [],
      "authorship_tag": "ABX9TyNlLeoJR9nc03D0Pyr0TTgm",
      "include_colab_link": true
    },
    "kernelspec": {
      "name": "python3",
      "display_name": "Python 3"
    },
    "language_info": {
      "name": "python"
    }
  },
  "cells": [
    {
      "cell_type": "markdown",
      "metadata": {
        "id": "view-in-github",
        "colab_type": "text"
      },
      "source": [
        "<a href=\"https://colab.research.google.com/github/destrianra/struktur_data/blob/main/Prak8_UAS_G_231_222_0007.ipynb\" target=\"_parent\"><img src=\"https://colab.research.google.com/assets/colab-badge.svg\" alt=\"Open In Colab\"/></a>"
      ]
    },
    {
      "cell_type": "code",
      "source": [
        "# Install required libraries\n",
        "!pip install networkx matplotlib\n",
        "\n",
        "import networkx as nx\n",
        "import matplotlib.pyplot as plt\n",
        "\n",
        "intmax = 9999999999\n",
        "\n",
        "\n",
        "class Graph():\n",
        "    def __init__(self, vertices):\n",
        "        self.V = vertices\n",
        "        self.graph = [[0 for _ in range(vertices)] for _ in range(vertices)]\n",
        "\n",
        "    def printSolution(self, dist):\n",
        "        print(\"Vertex \\tDistance from Source\")\n",
        "        for node in range(self.V):\n",
        "            print(node, \"\\t\", dist[node])\n",
        "\n",
        "    def minDistance(self, dist, sptSet):\n",
        "        min_val = intmax\n",
        "        min_index = -1\n",
        "\n",
        "        for u in range(self.V):\n",
        "            if dist[u] < min_val and not sptSet[u]:\n",
        "                min_val = dist[u]\n",
        "                min_index = u\n",
        "\n",
        "        return min_index\n",
        "\n",
        "    def dijkstra(self, src):\n",
        "        dist = [intmax] * self.V\n",
        "        dist[src] = 0\n",
        "        sptSet = [False] * self.V\n",
        "\n",
        "        for _ in range(self.V):\n",
        "            x = self.minDistance(dist, sptSet)\n",
        "            sptSet[x] = True\n",
        "\n",
        "            for y in range(self.V):\n",
        "                if (\n",
        "                    self.graph[x][y] > 0\n",
        "                    and not sptSet[y]\n",
        "                    and dist[y] > dist[x] + self.graph[x][y]\n",
        "                ):\n",
        "                    dist[y] = dist[x] + self.graph[x][y]\n",
        "\n",
        "        self.printSolution(dist)\n",
        "\n",
        "        # Create a graph for visualization\n",
        "        G = nx.Graph()\n",
        "        for i in range(self.V):\n",
        "            for j in range(self.V):\n",
        "                if self.graph[i][j] > 0:\n",
        "                    G.add_edge(i, j, weight=self.graph[i][j])\n",
        "\n",
        "        # Positioning nodes using shell layout\n",
        "        pos = nx.shell_layout(G)\n",
        "\n",
        "        # Draw the graph\n",
        "        nx.draw(G, pos, with_labels=True)\n",
        "        edge_labels = nx.get_edge_attributes(G, \"weight\")\n",
        "        nx.draw_networkx_edge_labels(G, pos, edge_labels=edge_labels)\n",
        "        plt.show()\n",
        "\n",
        "\n",
        "# Driver program\n",
        "g = Graph(6)\n",
        "g.graph = [\n",
        "    [0, 4, 5, 0, 0, 0],\n",
        "    [4, 0, 11, 9, 7, 0],\n",
        "    [5, 11, 0, 0, 3, 0],\n",
        "    [0, 9, 0, 0, 13, 2],\n",
        "    [0, 7, 3, 13, 0, 6],\n",
        "    [0, 0, 0, 2, 6, 0],\n",
        "]\n",
        "\n",
        "g.dijkstra(0)\n"
      ],
      "metadata": {
        "colab": {
          "base_uri": "https://localhost:8080/",
          "height": 846
        },
        "id": "pp4svLKWeu96",
        "outputId": "11a64d66-a9f1-4b4e-8d98-79ad6e6daef4"
      },
      "execution_count": null,
      "outputs": [
        {
          "output_type": "stream",
          "name": "stdout",
          "text": [
            "Requirement already satisfied: networkx in /usr/local/lib/python3.10/dist-packages (3.2.1)\n",
            "Requirement already satisfied: matplotlib in /usr/local/lib/python3.10/dist-packages (3.7.1)\n",
            "Requirement already satisfied: contourpy>=1.0.1 in /usr/local/lib/python3.10/dist-packages (from matplotlib) (1.2.0)\n",
            "Requirement already satisfied: cycler>=0.10 in /usr/local/lib/python3.10/dist-packages (from matplotlib) (0.12.1)\n",
            "Requirement already satisfied: fonttools>=4.22.0 in /usr/local/lib/python3.10/dist-packages (from matplotlib) (4.45.1)\n",
            "Requirement already satisfied: kiwisolver>=1.0.1 in /usr/local/lib/python3.10/dist-packages (from matplotlib) (1.4.5)\n",
            "Requirement already satisfied: numpy>=1.20 in /usr/local/lib/python3.10/dist-packages (from matplotlib) (1.23.5)\n",
            "Requirement already satisfied: packaging>=20.0 in /usr/local/lib/python3.10/dist-packages (from matplotlib) (23.2)\n",
            "Requirement already satisfied: pillow>=6.2.0 in /usr/local/lib/python3.10/dist-packages (from matplotlib) (9.4.0)\n",
            "Requirement already satisfied: pyparsing>=2.3.1 in /usr/local/lib/python3.10/dist-packages (from matplotlib) (3.1.1)\n",
            "Requirement already satisfied: python-dateutil>=2.7 in /usr/local/lib/python3.10/dist-packages (from matplotlib) (2.8.2)\n",
            "Requirement already satisfied: six>=1.5 in /usr/local/lib/python3.10/dist-packages (from python-dateutil>=2.7->matplotlib) (1.16.0)\n",
            "Vertex \tDistance from Source\n",
            "0 \t 0\n",
            "1 \t 4\n",
            "2 \t 5\n",
            "3 \t 13\n",
            "4 \t 8\n",
            "5 \t 14\n"
          ]
        },
        {
          "output_type": "display_data",
          "data": {
            "text/plain": [
              "<Figure size 640x480 with 1 Axes>"
            ],
            "image/png": "[encoded data removed]"
          },
          "metadata": {}
        }
      ]
    }
  ]
}