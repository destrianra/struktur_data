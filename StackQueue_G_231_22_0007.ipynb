{
  "nbformat": 4,
  "nbformat_minor": 0,
  "metadata": {
    "colab": {
      "provenance": [],
      "authorship_tag": "ABX9TyPI4i02SpM2QtFkXCM9OlUk",
      "include_colab_link": true
    },
    "kernelspec": {
      "name": "python3",
      "display_name": "Python 3"
    },
    "language_info": {
      "name": "python"
    }
  },
  "cells": [
    {
      "cell_type": "markdown",
      "metadata": {
        "id": "view-in-github",
        "colab_type": "text"
      },
      "source": [
        "<a href=\"https://colab.research.google.com/github/destrianra/struktur_data/blob/main/StackQueue_G_231_22_0007.ipynb\" target=\"_parent\"><img src=\"https://colab.research.google.com/assets/colab-badge.svg\" alt=\"Open In Colab\"/></a>"
      ]
    },
    {
      "cell_type": "code",
      "execution_count": 2,
      "metadata": {
        "colab": {
          "base_uri": "https://localhost:8080/"
        },
        "id": "5vhGfJofAoXq",
        "outputId": "4526b727-9adf-4395-ba81-ad391e4aa4fc"
      },
      "outputs": [
        {
          "output_type": "stream",
          "name": "stdout",
          "text": [
            "deque(['Tama', 'Tara', 'Ali', 'Johan'])\n",
            "deque(['Tama', 'Tara', 'Ali', 'Johan', 'Luna'])\n",
            "deque(['Tama', 'Tara', 'Ali', 'Johan', 'Luna', 'ninda'])\n",
            "Tama\n",
            "Tara\n",
            "deque(['Ali', 'Johan', 'Luna', 'ninda'])\n"
          ]
        }
      ],
      "source": [
        "from collections import deque\n",
        "queue = deque ([\"Tama\", \"Tara\", \"Ali\", \"Johan\"])\n",
        "print(queue)\n",
        "queue.append(\"Luna\")\n",
        "print(queue)\n",
        "queue.append(\"ninda\")\n",
        "print(queue)\n",
        "print(queue.popleft())\n",
        "print(queue.popleft())\n",
        "print(queue)"
      ]
    },
    {
      "cell_type": "code",
      "source": [
        "def sortStack(input):\n",
        "    tmpStack = []\n",
        "    while len(input) > 0:\n",
        "        tmp = input[-1]\n",
        "        input.pop()\n",
        "        while len(tmpStack) > 0 and tmpStack[-1] < tmp:\n",
        "            input.append(tmpStack[-1])\n",
        "            tmpStack.pop()\n",
        "        tmpStack.append(tmp)\n",
        "    return tmpStack\n",
        "\n",
        "def sortArrayUsingStacks(arr, n):\n",
        "    input_stack = []  # Changed variable name for clarity\n",
        "    i = 0\n",
        "    while i < n:\n",
        "        input_stack.append(arr[i])\n",
        "        i = i + 1\n",
        "\n",
        "    # Sort the temporary stack using the sortStack function\n",
        "    tmpStack = sortStack(input_stack)\n",
        "    i = 0\n",
        "\n",
        "    while i < n:\n",
        "        arr[i] = tmpStack[-1]\n",
        "        tmpStack.pop()\n",
        "        i = i + 1\n",
        "\n",
        "    return arr\n",
        "\n",
        "# Driver code\n",
        "arr = [10, 5, 15, 45]\n",
        "n = len(arr)\n",
        "\n",
        "arr = sortArrayUsingStacks(arr, n)\n",
        "i = 0\n",
        "\n",
        "while i < n:\n",
        "    print(arr[i], end=\" \")\n",
        "    i = i + 1"
      ],
      "metadata": {
        "colab": {
          "base_uri": "https://localhost:8080/"
        },
        "id": "BRE9enVwE5fq",
        "outputId": "62b2a1b9-ed32-4a59-ba37-3902a72e6335"
      },
      "execution_count": 3,
      "outputs": [
        {
          "output_type": "stream",
          "name": "stdout",
          "text": [
            "5 10 15 45 "
          ]
        }
      ]
    },
    {
      "cell_type": "markdown",
      "source": [
        "**Algiritman untuk operasi Deque**"
      ],
      "metadata": {
        "id": "xhFfHp9TFEll"
      }
    },
    {
      "cell_type": "code",
      "source": [
        "# Inisialisasi deque dengan nama queue dan nilai awal\n",
        "from collections import deque\n",
        "queue = deque([\"Tama\", \"Tara\", \"Ali\", \"Johan\"])"
      ],
      "metadata": {
        "id": "RhUMr_hFFAMJ"
      },
      "execution_count": 4,
      "outputs": []
    },
    {
      "cell_type": "code",
      "source": [
        "# Cetak deque, tambahkan elemen, dan cetak lagi\n",
        "print(queue)\n",
        "queue.append(\"Luna\")\n",
        "print(queue)\n",
        "queue.append(\"ninda\")\n",
        "print(queue)"
      ],
      "metadata": {
        "colab": {
          "base_uri": "https://localhost:8080/"
        },
        "id": "nFptxsKkFYLa",
        "outputId": "2ec2ba76-5b12-4504-c41e-e698161b240c"
      },
      "execution_count": 5,
      "outputs": [
        {
          "output_type": "stream",
          "name": "stdout",
          "text": [
            "deque(['Tama', 'Tara', 'Ali', 'Johan'])\n",
            "deque(['Tama', 'Tara', 'Ali', 'Johan', 'Luna'])\n",
            "deque(['Tama', 'Tara', 'Ali', 'Johan', 'Luna', 'ninda'])\n"
          ]
        }
      ]
    },
    {
      "cell_type": "code",
      "source": [
        "# Hapus dan cetak elemen paling kiri deque dua kali\n",
        "print(queue.popleft())\n",
        "print(queue.popleft())\n",
        "print(queue)"
      ],
      "metadata": {
        "colab": {
          "base_uri": "https://localhost:8080/"
        },
        "id": "q8Gp0RvPFcfD",
        "outputId": "7f002035-ea81-4f5d-a1ff-1fbfccd32855"
      },
      "execution_count": 6,
      "outputs": [
        {
          "output_type": "stream",
          "name": "stdout",
          "text": [
            "Tama\n",
            "Tara\n",
            "deque(['Ali', 'Johan', 'Luna', 'ninda'])\n"
          ]
        }
      ]
    },
    {
      "cell_type": "markdown",
      "source": [
        "**Algoritman untuk mengurutan dengan Stuck**"
      ],
      "metadata": {
        "id": "Q0XpuFawFjPh"
      }
    },
    {
      "cell_type": "code",
      "source": [
        "# Definisikan fungsi sortStack yang mengambil list input sebagai input dan mengembalikan stack yang diurutkan menggunakan stack sementara (tmpStack)\n",
        "def sortStack(input):\n",
        "    tmpStack = []\n",
        "    while len(input) > 0:\n",
        "        tmp = input[-1]\n",
        "        input.pop()\n",
        "        while len(tmpStack) > 0 and tmpStack[-1] < tmp:\n",
        "            input.append(tmpStack[-1])\n",
        "            tmpStack.pop()\n",
        "        tmpStack.append(tmp)\n",
        "    return tmpStack"
      ],
      "metadata": {
        "id": "pv_0PHkvFgfG"
      },
      "execution_count": 7,
      "outputs": []
    },
    {
      "cell_type": "code",
      "source": [
        "# Definisikan fungsi sortArrayUsingStacks yang mengambil array (arr) dan panjangnya (n) sebagai input. Ini mengurutkan array menggunakan fungsi sortStack\n",
        "def sortArrayUsingStacks(arr, n):\n",
        "    input_stack = []\n",
        "    i = 0\n",
        "    while i < n:\n",
        "        input_stack.append(arr[i])\n",
        "        i = i + 1\n",
        "\n",
        "    tmpStack = sortStack(input_stack)\n",
        "    i = 0\n",
        "\n",
        "    while i < n:\n",
        "        arr[i] = tmpStack[-1]\n",
        "        tmpStack.pop()\n",
        "        i = i + 1\n",
        "\n",
        "    return arr\n",
        ""
      ],
      "metadata": {
        "id": "JOR0OTLBGbCD"
      },
      "execution_count": 8,
      "outputs": []
    },
    {
      "cell_type": "code",
      "source": [
        "# Driver code\n",
        "arr = [10, 5, 15, 45]\n",
        "n = len(arr)\n",
        "\n",
        "arr = sortArrayUsingStacks(arr, n)\n",
        "i = 0\n",
        "\n",
        "while i < n:\n",
        "    print(arr[i], end=\" \")\n",
        "    i = i + 1"
      ],
      "metadata": {
        "id": "RgKBSdfZGflD"
      },
      "execution_count": null,
      "outputs": []
    }
  ]
}