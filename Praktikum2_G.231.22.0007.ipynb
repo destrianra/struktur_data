{
  "nbformat": 4,
  "nbformat_minor": 0,
  "metadata": {
    "colab": {
      "provenance": [],
      "authorship_tag": "ABX9TyOjkIxBk/gHhWeRXSCEiRv1",
      "include_colab_link": true
    },
    "kernelspec": {
      "name": "python3",
      "display_name": "Python 3"
    },
    "language_info": {
      "name": "python"
    }
  },
  "cells": [
    {
      "cell_type": "markdown",
      "metadata": {
        "id": "view-in-github",
        "colab_type": "text"
      },
      "source": [
        "<a href=\"https://colab.research.google.com/github/destrianra/struktur_data/blob/main/Praktikum2_G.231.22.0007.ipynb\" target=\"_parent\"><img src=\"https://colab.research.google.com/assets/colab-badge.svg\" alt=\"Open In Colab\"/></a>"
      ]
    },
    {
      "cell_type": "code",
      "source": [
        "def selectionSort(word_list):\n",
        "    for i in range(len(word_list)):\n",
        "        min_index = i\n",
        "        for j in range(i + 1, len(word_list)):\n",
        "            if word_list[j] < word_list[min_index]:\n",
        "                min_index = j\n",
        "        word_list[i], word_list[min_index] = word_list[min_index], word_list[i]\n",
        "    return word_list\n",
        "\n",
        "words = [\"apple\", \"orange\", \"banana\", \"grape\", \"pineapple\"]\n",
        "sorted_words = selectionSort(words.copy())  # Buat salinan daftar untuk mempertahankan aslinya\n",
        "print(\"Kata Buah manis yang Diurutkan:\", sorted_words)\n",
        "print(\"Kata Buah manis Asli:\", words)\n"
      ],
      "metadata": {
        "colab": {
          "base_uri": "https://localhost:8080/"
        },
        "id": "wwrt7RhAbewM",
        "outputId": "44ad6247-27ac-440a-e6d1-b52df36a96fe"
      },
      "execution_count": 7,
      "outputs": [
        {
          "output_type": "stream",
          "name": "stdout",
          "text": [
            "Kata Buah manis yang Diurutkan: ['apple', 'banana', 'grape', 'orange', 'pineapple']\n",
            "Kata Buah manis Asli: ['apple', 'orange', 'banana', 'grape', 'pineapple']\n"
          ]
        }
      ]
    }
  ]
}