{
  "nbformat": 4,
  "nbformat_minor": 0,
  "metadata": {
    "colab": {
      "provenance": [],
      "authorship_tag": "ABX9TyNpZirRCnUW+DPbhbSAGkQv",
      "include_colab_link": true
    },
    "kernelspec": {
      "name": "python3",
      "display_name": "Python 3"
    },
    "language_info": {
      "name": "python"
    }
  },
  "cells": [
    {
      "cell_type": "markdown",
      "metadata": {
        "id": "view-in-github",
        "colab_type": "text"
      },
      "source": [
        "<a href=\"https://colab.research.google.com/github/destrianra/struktur_data/blob/main/Praktikum2_G.231.22.0007.ipynb\" target=\"_parent\"><img src=\"https://colab.research.google.com/assets/colab-badge.svg\" alt=\"Open In Colab\"/></a>"
      ]
    },
    {
      "cell_type": "code",
      "source": [
        "def selectionSort(word_list):\n",
        "    for i in range(len(word_list)):\n",
        "        min_index = i\n",
        "        for j in range(i + 1, len(word_list)):\n",
        "            if word_list[j] < word_list[min_index]:\n",
        "                min_index = j\n",
        "        word_list[i], word_list[min_index] = word_list[min_index], word_list[i]\n",
        "    return word_list\n",
        "\n",
        "words = [\"apple\", \"orange\", \"banana\", \"grape\", \"pineapple\"]\n",
        "sorted_words = selectionSort(words.copy())  # Buat salinan daftar untuk mempertahankan aslinya\n",
        "print(\"Kata Buah manis yang Diurutkan:\", sorted_words)\n",
        "print(\"Kata Buah manis Asli:\", words)\n"
      ],
      "metadata": {
        "colab": {
          "base_uri": "https://localhost:8080/"
        },
        "id": "wwrt7RhAbewM",
        "outputId": "44ad6247-27ac-440a-e6d1-b52df36a96fe"
      },
      "execution_count": null,
      "outputs": [
        {
          "output_type": "stream",
          "name": "stdout",
          "text": [
            "Kata Buah manis yang Diurutkan: ['apple', 'banana', 'grape', 'orange', 'pineapple']\n",
            "Kata Buah manis Asli: ['apple', 'orange', 'banana', 'grape', 'pineapple']\n"
          ]
        }
      ]
    },
    {
      "cell_type": "code",
      "source": [
        "#Dictionary selection sort\n",
        "\n",
        "fruits = {\n",
        "    \"Apple\": {\"color\": \"Red\", \"taste\": \"Sweet\"},\n",
        "    \"Banana\": {\"color\": \"Yellow\", \"taste\": \"Sweet\"},\n",
        "    \"Orange\": {\"color\": \"Orange\", \"taste\": \"Citrus\"},\n",
        "    \"Grapes\": {\"color\": \"Purple/Green\", \"taste\": \"Sweet\"}\n",
        "}\n",
        "\n",
        "# Function to perform selection sort based on fruit names\n",
        "def selectionSort(fruit_dict):\n",
        "    fruit_keys = list(fruit_dict.keys())\n",
        "    for i in range(len(fruit_keys)):\n",
        "        min_index = i\n",
        "        for j in range(i + 1, len(fruit_keys)):\n",
        "            if fruit_keys[j] < fruit_keys[min_index]:\n",
        "                min_index = j\n",
        "        fruit_keys[i], fruit_keys[min_index] = fruit_keys[min_index], fruit_keys[i]\n",
        "    sorted_fruit_dict = {key: fruit_dict[key] for key in fruit_keys}\n",
        "    return sorted_fruit_dict\n",
        "\n",
        "# Sort the fruits dictionary based on fruit names using selection sort\n",
        "sorted_fruits = selectionSort(fruits)\n",
        "\n",
        "# Print the sorted fruits dictionary\n",
        "print(\"Sorted Fruits Dictionary:\")\n",
        "for fruit, details in sorted_fruits.items():\n",
        "    print(fruit, \"-> Color:\", details[\"color\"], \", Taste:\", details[\"taste\"])\n"
      ],
      "metadata": {
        "colab": {
          "base_uri": "https://localhost:8080/"
        },
        "id": "nrTk4Ktiqd6_",
        "outputId": "2d4dd805-49a4-4ce2-83bd-da440b7fc4cc"
      },
      "execution_count": 1,
      "outputs": [
        {
          "output_type": "stream",
          "name": "stdout",
          "text": [
            "Sorted Fruits Dictionary:\n",
            "Apple -> Color: Red , Taste: Sweet\n",
            "Banana -> Color: Yellow , Taste: Sweet\n",
            "Grapes -> Color: Purple/Green , Taste: Sweet\n",
            "Orange -> Color: Orange , Taste: Citrus\n"
          ]
        }
      ]
    },
    {
      "cell_type": "code",
      "source": [
        "#Coding Tuple\n",
        "# Define a list of fruits\n",
        "fruits = [\n",
        "    {\"name\": \"Apple\", \"color\": \"Red\", \"taste\": \"Sweet\"},\n",
        "    {\"name\": \"Banana\", \"color\": \"Yellow\", \"taste\": \"Sweet\"},\n",
        "    {\"name\": \"Orange\", \"color\": \"Orange\", \"taste\": \"Citrus\"},\n",
        "    {\"name\": \"Grapes\", \"color\": \"Purple/Green\", \"taste\": \"Sweet\"},\n",
        "]\n",
        "\n",
        "# Function to print a table of fruits\n",
        "def print_fruit_table(fruits_list):\n",
        "    print(\"{:<10} {:<15} {:<10}\".format(\"Name\", \"Color\", \"Taste\"))\n",
        "    print(\"-\" * 35)\n",
        "    for fruit in fruits_list:\n",
        "        print(\"{:<10} {:<15} {:<10}\".format(fruit[\"name\"], fruit[\"color\"], fruit[\"taste\"]))\n",
        "\n",
        "# Call the function to print the fruit table\n",
        "print_fruit_table(fruits)\n"
      ],
      "metadata": {
        "colab": {
          "base_uri": "https://localhost:8080/"
        },
        "id": "j6CmDrZWgpPb",
        "outputId": "4d12ee01-2038-4229-daa4-4aae0ab774b2"
      },
      "execution_count": null,
      "outputs": [
        {
          "output_type": "stream",
          "name": "stdout",
          "text": [
            "Name       Color           Taste     \n",
            "-----------------------------------\n",
            "Apple      Red             Sweet     \n",
            "Banana     Yellow          Sweet     \n",
            "Orange     Orange          Citrus    \n",
            "Grapes     Purple/Green    Sweet     \n"
          ]
        }
      ]
    }
  ]
}