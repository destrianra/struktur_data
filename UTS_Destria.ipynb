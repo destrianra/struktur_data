{
  "nbformat": 4,
  "nbformat_minor": 0,
  "metadata": {
    "colab": {
      "provenance": [],
      "authorship_tag": "ABX9TyPl9eBu6oKBUs9PjxpMhXD+",
      "include_colab_link": true
    },
    "kernelspec": {
      "name": "python3",
      "display_name": "Python 3"
    },
    "language_info": {
      "name": "python"
    }
  },
  "cells": [
    {
      "cell_type": "markdown",
      "metadata": {
        "id": "view-in-github",
        "colab_type": "text"
      },
      "source": [
        "<a href=\"https://colab.research.google.com/github/destrianra/struktur_data/blob/main/UTS_Destria.ipynb\" target=\"_parent\"><img src=\"https://colab.research.google.com/assets/colab-badge.svg\" alt=\"Open In Colab\"/></a>"
      ]
    },
    {
      "cell_type": "code",
      "execution_count": 1,
      "metadata": {
        "colab": {
          "base_uri": "https://localhost:8080/"
        },
        "id": "6c1sBQIw2bMt",
        "outputId": "165da88b-a468-48dc-8026-9fefce4ad194"
      },
      "outputs": [
        {
          "output_type": "stream",
          "name": "stdout",
          "text": [
            "[1, 2, 3, 4, 5, 6]\n"
          ]
        }
      ],
      "source": [
        "def quickSort(alist):\n",
        "  quickSortHelper(alist,0,len(alist)-1)\n",
        "\n",
        "def quickSortHelper(alist,first,last):\n",
        "  if first<last:\n",
        "\n",
        "      splitpoint = partition(alist,first,last)\n",
        "\n",
        "      quickSortHelper(alist,first,splitpoint-1)\n",
        "      quickSortHelper(alist,splitpoint+1,last)\n",
        "\n",
        "\n",
        "def partition(alist,first,last):\n",
        "  pivotvalue = alist[first]\n",
        "\n",
        "  leftmark = first+1\n",
        "  rightmark = last\n",
        "\n",
        "  done = False\n",
        "  while not done:\n",
        "\n",
        "        while leftmark <= rightmark and alist[leftmark] <= pivotvalue:\n",
        "            leftmark = leftmark + 1\n",
        "\n",
        "        while alist[rightmark] >= pivotvalue and rightmark >= leftmark:\n",
        "            rightmark = rightmark - 1\n",
        "\n",
        "        if rightmark < leftmark:\n",
        "            done = True\n",
        "        else:\n",
        "          temp = alist[leftmark]\n",
        "          alist[leftmark] = alist[rightmark]\n",
        "          alist[rightmark] = temp\n",
        "\n",
        "  temp = alist[first]\n",
        "  alist[first] = alist[rightmark]\n",
        "  alist[rightmark] = temp\n",
        "\n",
        "  return rightmark\n",
        "\n",
        "alist = [6,5,2,4,1,3]\n",
        "quickSort(alist)\n",
        "print(alist)"
      ]
    }
  ]
}