{
  "nbformat": 4,
  "nbformat_minor": 0,
  "metadata": {
    "colab": {
      "provenance": [],
      "authorship_tag": "ABX9TyMnGqfAbWZOfAzMOCkQV5rX",
      "include_colab_link": true
    },
    "kernelspec": {
      "name": "python3",
      "display_name": "Python 3"
    },
    "language_info": {
      "name": "python"
    }
  },
  "cells": [
    {
      "cell_type": "markdown",
      "metadata": {
        "id": "view-in-github",
        "colab_type": "text"
      },
      "source": [
        "<a href=\"https://colab.research.google.com/github/destrianra/struktur_data/blob/main/Inorder_G_231_22_0007.ipynb\" target=\"_parent\"><img src=\"https://colab.research.google.com/assets/colab-badge.svg\" alt=\"Open In Colab\"/></a>"
      ]
    },
    {
      "cell_type": "code",
      "execution_count": null,
      "metadata": {
        "colab": {
          "base_uri": "https://localhost:8080/"
        },
        "id": "Uj_ASYiBFnTa",
        "outputId": "7f06e0b3-2943-4c13-e33f-316b9fbf326c"
      },
      "outputs": [
        {
          "output_type": "stream",
          "name": "stdout",
          "text": [
            "\n",
            "Inorder traversal of binary tree is\n",
            "4\n",
            "2\n",
            "5\n",
            "1\n",
            "3\n"
          ]
        }
      ],
      "source": [
        "# Python3 program for tree traversals\n",
        "# Inorder\n",
        "class Node:\n",
        "    def __init__(self, key):\n",
        "        self.left = None\n",
        "        self.right = None\n",
        "        self.val = key\n",
        "\n",
        "\n",
        "# A Function to do inorder tree traversal\n",
        "def printInorder(root):\n",
        "\n",
        "    if root:\n",
        "\n",
        "        # First recur on left child\n",
        "        printInorder(root.left)\n",
        "\n",
        "        # then print the data of the node\n",
        "        print(root.val),\n",
        "\n",
        "        # now recur on the right child\n",
        "        printInorder(root.right)\n",
        "\n",
        "# Driver code\n",
        "if __name__ == \"__main__\":\n",
        "    root = Node(1)\n",
        "    root.left = Node(2)\n",
        "    root.right = Node(3)\n",
        "    root.left.left = Node(4)\n",
        "    root.left.right = Node(5)\n",
        "\n",
        "    # Function call\n",
        "    print (\"\\nInorder traversal of binary tree is\")\n",
        "    printInorder(root)\n"
      ]
    },
    {
      "cell_type": "markdown",
      "source": [
        "PREOERDER_NIM"
      ],
      "metadata": {
        "id": "V1fzW4K5UcoW"
      }
    },
    {
      "cell_type": "code",
      "source": [
        "# Preorder Binary Tree\n",
        "\n",
        "class Node:\n",
        "    def __init__(self, key):\n",
        "        self.left =     None\n",
        "        self.right = None\n",
        "        self.val = key\n",
        "\n",
        "# A function to do preorder tree traversal\n",
        "def printPreorder(root):\n",
        "    if root:\n",
        "        # First print the data of the node\n",
        "        print(root.val, end=\" \")\n",
        "\n",
        "        # Then recur on left child\n",
        "        printPreorder(root.left)\n",
        "\n",
        "        # Finally recur on right child\n",
        "        printPreorder(root.right)\n",
        "\n",
        "# Driver code\n",
        "if __name__ == \"__main__\":\n",
        "    root = Node(1)\n",
        "    root.left = Node(2)\n",
        "    root.right = Node(3)\n",
        "    root.left.left = Node(4)\n",
        "    root.left.right = Node(5)\n",
        "\n",
        "    # Function call\n",
        "    print(\"Preorder Traversal of binary tree is\")\n",
        "    printPreorder(root)\n"
      ],
      "metadata": {
        "colab": {
          "base_uri": "https://localhost:8080/"
        },
        "id": "cz-z4KdoUe7T",
        "outputId": "aa4164c3-59b1-4dc8-ea01-5a28a1279637"
      },
      "execution_count": null,
      "outputs": [
        {
          "output_type": "stream",
          "name": "stdout",
          "text": [
            "Preorder Traversal of binary tree is\n",
            "1 2 4 5 3 "
          ]
        }
      ]
    },
    {
      "cell_type": "markdown",
      "source": [
        "*POSTORDER_NIM*"
      ],
      "metadata": {
        "id": "lwSvna8sXdNS"
      }
    },
    {
      "cell_type": "code",
      "source": [
        "# Postorder Binary Tree\n",
        "\n",
        "class Node:\n",
        "    def __init__(self, key):\n",
        "        self.left = None\n",
        "        self.right = None\n",
        "        self.val = key\n",
        "\n",
        "# A Function to do postorder tree traversal\n",
        "def printPostorder(root):\n",
        "    if root:\n",
        "        # First recur on left child\n",
        "        printPostorder(root.left)\n",
        "\n",
        "        # Then recur on right child\n",
        "        printPostorder(root.right)\n",
        "\n",
        "        # Now print the data of node\n",
        "        print(root.val, end=\" \")\n",
        "\n",
        "# Driver Code\n",
        "if __name__ == \"__main__\":\n",
        "    root = Node(1)\n",
        "    root.left = Node(2)\n",
        "    root.right = Node(3)\n",
        "    root.left.left = Node(4)\n",
        "    root.left.right = Node(5)\n",
        "\n",
        "    # Function call\n",
        "    print(\"\\nPostorder traversal of binary tree is\")\n",
        "    printPostorder(root)\n"
      ],
      "metadata": {
        "id": "_NncEHd8UYjA",
        "colab": {
          "base_uri": "https://localhost:8080/"
        },
        "outputId": "24b8aa51-40e9-4c93-eb40-d76b91920ba2"
      },
      "execution_count": null,
      "outputs": [
        {
          "output_type": "stream",
          "name": "stdout",
          "text": [
            "\n",
            "Postorder traversal of binary tree is\n",
            "4 5 2 3 1 "
          ]
        }
      ]
    }
  ]
}