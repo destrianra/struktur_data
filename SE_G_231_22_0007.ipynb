{
  "nbformat": 4,
  "nbformat_minor": 0,
  "metadata": {
    "colab": {
      "provenance": [],
      "authorship_tag": "ABX9TyOwvcDnLFZt5ieY96bdopZk",
      "include_colab_link": true
    },
    "kernelspec": {
      "name": "python3",
      "display_name": "Python 3"
    },
    "language_info": {
      "name": "python"
    }
  },
  "cells": [
    {
      "cell_type": "markdown",
      "metadata": {
        "id": "view-in-github",
        "colab_type": "text"
      },
      "source": [
        "<a href=\"https://colab.research.google.com/github/destrianra/struktur_data/blob/main/SE_G_231_22_0007.ipynb\" target=\"_parent\"><img src=\"https://colab.research.google.com/assets/colab-badge.svg\" alt=\"Open In Colab\"/></a>"
      ]
    },
    {
      "cell_type": "code",
      "execution_count": 21,
      "metadata": {
        "colab": {
          "base_uri": "https://localhost:8080/"
        },
        "id": "lQK26lriUmiU",
        "outputId": "c81fa435-b903-48c9-fc95-7bde1932d8ba"
      },
      "outputs": [
        {
          "output_type": "stream",
          "name": "stdout",
          "text": [
            "{'How': 1, 'to': 1, 'train': 2, 'your': 1, 'dragon': 2, 'fighter': 1, 'in': 1, 'the': 1, 'night': 1}\n"
          ]
        }
      ],
      "source": [
        "browse = \"How to train your dragon fighter in the night train dragon\"\n",
        "words = browse.split()\n",
        "counts = {}\n",
        "\n",
        "for i in range(0, len(words)):\n",
        "    kata1 = words[i]\n",
        "    count = 0  # Reset count for each new word\n",
        "    for j in range(0, len(words)):\n",
        "        kata2 = words[j]\n",
        "        if kata1 == kata2:\n",
        "            count = count + 1\n",
        "    counts[kata1] = count\n",
        "\n",
        "print(counts)\n"
      ]
    },
    {
      "cell_type": "code",
      "source": [
        "import re\n",
        "\n",
        "def preprocess(text):\n",
        "    text = text.lower()\n",
        "    text = re.sub(r'[^a-z\\s]', '', text)\n",
        "    tokens = text.split()\n",
        "    return tokens\n",
        "\n",
        "def build_index(documents):\n",
        "    index = {}\n",
        "    for doc_id, doc_text in enumerate(documents):\n",
        "        tokens = preprocess(doc_text)\n",
        "        for token in tokens:\n",
        "            if token not in index:\n",
        "                index[token] = {}\n",
        "            if doc_id not in index[token]:\n",
        "                index[token][doc_id] = 0\n",
        "            index[token][doc_id] += 1\n",
        "    return index\n",
        "\n",
        "def search(query, index, documents):\n",
        "    query_tokens = preprocess(query)\n",
        "    scores = {}\n",
        "\n",
        "    for query_token in query_tokens:\n",
        "        if query_token in index:\n",
        "            for doc_id, count in index[query_token].items():\n",
        "                if doc_id not in scores:\n",
        "                    scores[doc_id] = 0\n",
        "                scores[doc_id] += count\n",
        "\n",
        "    # Sorting results based on scores\n",
        "    sorted_results = sorted(scores.items(), key=lambda x: x[1], reverse=True)\n",
        "\n",
        "    # Displaying results\n",
        "    for doc_id, score in sorted_results:\n",
        "        print(f\"Document {doc_id + 1}: Score {score}\")\n",
        "        print(documents[doc_id])\n",
        "        print(\"-\" * 30)\n",
        "\n",
        "documents = [\n",
        "    \"How to train your dragon train again\",\n",
        "    \"Dragon fighter in the night last night\",\n",
        "    \"Python programming basics popular\",\n",
        "    \"Building a search engine with Python happy\"\n",
        "]\n",
        "\n",
        "index = build_index(documents)\n",
        "\n",
        "# Example query\n",
        "query = \"python programming\"\n",
        "search(query, index, documents)\n"
      ],
      "metadata": {
        "colab": {
          "base_uri": "https://localhost:8080/"
        },
        "id": "doWdoCIQaAb8",
        "outputId": "7c503774-db2f-4da2-f7b1-905e4c293531"
      },
      "execution_count": 26,
      "outputs": [
        {
          "output_type": "stream",
          "name": "stdout",
          "text": [
            "Document 3: Score 2\n",
            "Python programming basics popular\n",
            "------------------------------\n",
            "Document 4: Score 1\n",
            "Building a search engine with Python happy\n",
            "------------------------------\n"
          ]
        }
      ]
    },
    {
      "cell_type": "code",
      "source": [],
      "metadata": {
        "colab": {
          "base_uri": "https://localhost:8080/"
        },
        "id": "SqMrHNyBbQQ1",
        "outputId": "c0c13725-1c43-4c28-9d7c-0b4a139375d4"
      },
      "execution_count": 29,
      "outputs": [
        {
          "output_type": "stream",
          "name": "stdout",
          "text": [
            "Hasil pencarian untuk 'python':\n",
            "Document 1: Bagaiman cara membuat codingan di python\n",
            "Document 3: Berkuliah Teknik Informatika di Universitas Semarang dan belajar python\n",
            "Document 4: Mengerjakan tugas struktur data membuat codingan python\n"
          ]
        }
      ]
    }
  ]
}